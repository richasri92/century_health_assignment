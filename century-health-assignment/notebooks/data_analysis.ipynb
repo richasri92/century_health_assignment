{
 "cells": [
  {
   "attachments": {},
   "cell_type": "markdown",
   "metadata": {},
   "source": [
    "### Import packages"
   ]
  },
  {
   "cell_type": "code",
   "execution_count": 1,
   "metadata": {},
   "outputs": [],
   "source": [
    "import pandas as pd\n",
    "import plotly.express as px\n",
    "import seaborn as sns\n",
    "import matplotlib.pyplot as plt"
   ]
  },
  {
   "attachments": {},
   "cell_type": "markdown",
   "metadata": {},
   "source": [
    "### Loading Datasets"
   ]
  },
  {
   "cell_type": "code",
   "execution_count": 40,
   "metadata": {},
   "outputs": [],
   "source": [
    "patients = pd.read_csv('../data/01_raw/patients.csv')\n",
    "patient_gender = pd.read_csv('../data/01_raw/patient_gender.csv')\n",
    "symptoms = pd.read_csv('../data/01_raw/symptoms.csv')\n",
    "encounters = pd.read_parquet('../data/01_raw/encounters.parquet')\n",
    "conditions = pd.read_excel('../data/01_raw/conditions.xlsx')\n",
    "medications = pd.read_csv('../data/01_raw/medications.csv')"
   ]
  },
  {
   "cell_type": "code",
   "execution_count": 18,
   "metadata": {},
   "outputs": [
    {
     "data": {
      "text/html": [
       "<div>\n",
       "<style scoped>\n",
       "    .dataframe tbody tr th:only-of-type {\n",
       "        vertical-align: middle;\n",
       "    }\n",
       "\n",
       "    .dataframe tbody tr th {\n",
       "        vertical-align: top;\n",
       "    }\n",
       "\n",
       "    .dataframe thead th {\n",
       "        text-align: right;\n",
       "    }\n",
       "</style>\n",
       "<table border=\"1\" class=\"dataframe\">\n",
       "  <thead>\n",
       "    <tr style=\"text-align: right;\">\n",
       "      <th></th>\n",
       "      <th>PATIENT_ID</th>\n",
       "      <th>BIRTHDATE</th>\n",
       "      <th>DEATHDATE</th>\n",
       "      <th>SSN</th>\n",
       "      <th>DRIVERS</th>\n",
       "      <th>PASSPORT</th>\n",
       "      <th>PREFIX</th>\n",
       "      <th>FIRST</th>\n",
       "      <th>LAST</th>\n",
       "      <th>SUFFIX</th>\n",
       "      <th>...</th>\n",
       "      <th>COUNTY</th>\n",
       "      <th>FIPS</th>\n",
       "      <th>ZIP</th>\n",
       "      <th>LAT</th>\n",
       "      <th>LON</th>\n",
       "      <th>HEALTHCARE_EXPENSES</th>\n",
       "      <th>HEALTHCARE_COVERAGE</th>\n",
       "      <th>INCOME</th>\n",
       "      <th>Id</th>\n",
       "      <th>GENDER</th>\n",
       "    </tr>\n",
       "  </thead>\n",
       "  <tbody>\n",
       "    <tr>\n",
       "      <th>0</th>\n",
       "      <td>54f1059e-6250-3949-6dd0-1dda9b85d22a</td>\n",
       "      <td>2002-01-21</td>\n",
       "      <td>NaN</td>\n",
       "      <td>999-28-3364</td>\n",
       "      <td>S99987398</td>\n",
       "      <td>X44428214X</td>\n",
       "      <td>Ms.</td>\n",
       "      <td>Fredricka415</td>\n",
       "      <td>Crist667</td>\n",
       "      <td>NaN</td>\n",
       "      <td>...</td>\n",
       "      <td>Tarrant County</td>\n",
       "      <td>48439.0</td>\n",
       "      <td>76104</td>\n",
       "      <td>0.329154</td>\n",
       "      <td>-97.399553</td>\n",
       "      <td>9990.08</td>\n",
       "      <td>0.0</td>\n",
       "      <td>35460</td>\n",
       "      <td>54f1059e-6250-3949-6dd0-1dda9b85d22a</td>\n",
       "      <td>F</td>\n",
       "    </tr>\n",
       "    <tr>\n",
       "      <th>1</th>\n",
       "      <td>92675303-ca5b-136a-169b-e764c5753f06</td>\n",
       "      <td>1997-04-16</td>\n",
       "      <td>NaN</td>\n",
       "      <td>999-62-9859</td>\n",
       "      <td>S99999770</td>\n",
       "      <td>X75016560X</td>\n",
       "      <td>Mr.</td>\n",
       "      <td>Lorenzo669</td>\n",
       "      <td>Urrutia540</td>\n",
       "      <td>NaN</td>\n",
       "      <td>...</td>\n",
       "      <td>Tarrant County</td>\n",
       "      <td>48439.0</td>\n",
       "      <td>76006</td>\n",
       "      <td>0.328145</td>\n",
       "      <td>-97.068885</td>\n",
       "      <td>10936.80</td>\n",
       "      <td>0.0</td>\n",
       "      <td>88407</td>\n",
       "      <td>92675303-ca5b-136a-169b-e764c5753f06</td>\n",
       "      <td>M</td>\n",
       "    </tr>\n",
       "    <tr>\n",
       "      <th>2</th>\n",
       "      <td>a0b63e97-b6fd-5fe1-8f2d-2bec915efa97</td>\n",
       "      <td>1993-02-04</td>\n",
       "      <td>NaN</td>\n",
       "      <td>999-53-6488</td>\n",
       "      <td>S99979170</td>\n",
       "      <td>X60079936X</td>\n",
       "      <td>Mr.</td>\n",
       "      <td>Luther918</td>\n",
       "      <td>MacGyver246</td>\n",
       "      <td>NaN</td>\n",
       "      <td>...</td>\n",
       "      <td>Harris County</td>\n",
       "      <td>48339.0</td>\n",
       "      <td>77357</td>\n",
       "      <td>0.300834</td>\n",
       "      <td>-95.649706</td>\n",
       "      <td>10662.16</td>\n",
       "      <td>0.0</td>\n",
       "      <td>41800</td>\n",
       "      <td>a0b63e97-b6fd-5fe1-8f2d-2bec915efa97</td>\n",
       "      <td>M</td>\n",
       "    </tr>\n",
       "    <tr>\n",
       "      <th>3</th>\n",
       "      <td>abc59f62-dc5a-5095-1141-80b4ee8be73b</td>\n",
       "      <td>1995-05-23</td>\n",
       "      <td>NaN</td>\n",
       "      <td>999-37-1058</td>\n",
       "      <td>S99981031</td>\n",
       "      <td>X14759314X</td>\n",
       "      <td>Mrs.</td>\n",
       "      <td>Jacque955</td>\n",
       "      <td>Jones311</td>\n",
       "      <td>NaN</td>\n",
       "      <td>...</td>\n",
       "      <td>McLennan County</td>\n",
       "      <td>48309.0</td>\n",
       "      <td>76655</td>\n",
       "      <td>0.315173</td>\n",
       "      <td>-97.292558</td>\n",
       "      <td>11455.93</td>\n",
       "      <td>0.0</td>\n",
       "      <td>41915</td>\n",
       "      <td>abc59f62-dc5a-5095-1141-80b4ee8be73b</td>\n",
       "      <td>F</td>\n",
       "    </tr>\n",
       "    <tr>\n",
       "      <th>4</th>\n",
       "      <td>28d7b56c-6056-d0a2-2991-39d6e917216c</td>\n",
       "      <td>1993-11-13</td>\n",
       "      <td>NaN</td>\n",
       "      <td>999-31-6091</td>\n",
       "      <td>S99958903</td>\n",
       "      <td>X63033472X</td>\n",
       "      <td>Mrs.</td>\n",
       "      <td>Angela104</td>\n",
       "      <td>Stanton715</td>\n",
       "      <td>NaN</td>\n",
       "      <td>...</td>\n",
       "      <td>Hockley County</td>\n",
       "      <td>48219.0</td>\n",
       "      <td>79336</td>\n",
       "      <td>0.337037</td>\n",
       "      <td>-102.361829</td>\n",
       "      <td>12449.11</td>\n",
       "      <td>0.0</td>\n",
       "      <td>67198</td>\n",
       "      <td>28d7b56c-6056-d0a2-2991-39d6e917216c</td>\n",
       "      <td>F</td>\n",
       "    </tr>\n",
       "  </tbody>\n",
       "</table>\n",
       "<p>5 rows × 28 columns</p>\n",
       "</div>"
      ],
      "text/plain": [
       "                             PATIENT_ID   BIRTHDATE  DEATHDATE          SSN  \\\n",
       "0  54f1059e-6250-3949-6dd0-1dda9b85d22a  2002-01-21        NaN  999-28-3364   \n",
       "1  92675303-ca5b-136a-169b-e764c5753f06  1997-04-16        NaN  999-62-9859   \n",
       "2  a0b63e97-b6fd-5fe1-8f2d-2bec915efa97  1993-02-04        NaN  999-53-6488   \n",
       "3  abc59f62-dc5a-5095-1141-80b4ee8be73b  1995-05-23        NaN  999-37-1058   \n",
       "4  28d7b56c-6056-d0a2-2991-39d6e917216c  1993-11-13        NaN  999-31-6091   \n",
       "\n",
       "     DRIVERS    PASSPORT PREFIX         FIRST         LAST SUFFIX  ...  \\\n",
       "0  S99987398  X44428214X    Ms.  Fredricka415     Crist667    NaN  ...   \n",
       "1  S99999770  X75016560X    Mr.    Lorenzo669   Urrutia540    NaN  ...   \n",
       "2  S99979170  X60079936X    Mr.     Luther918  MacGyver246    NaN  ...   \n",
       "3  S99981031  X14759314X   Mrs.     Jacque955     Jones311    NaN  ...   \n",
       "4  S99958903  X63033472X   Mrs.     Angela104   Stanton715    NaN  ...   \n",
       "\n",
       "            COUNTY     FIPS    ZIP       LAT         LON HEALTHCARE_EXPENSES  \\\n",
       "0   Tarrant County  48439.0  76104  0.329154  -97.399553             9990.08   \n",
       "1   Tarrant County  48439.0  76006  0.328145  -97.068885            10936.80   \n",
       "2    Harris County  48339.0  77357  0.300834  -95.649706            10662.16   \n",
       "3  McLennan County  48309.0  76655  0.315173  -97.292558            11455.93   \n",
       "4   Hockley County  48219.0  79336  0.337037 -102.361829            12449.11   \n",
       "\n",
       "  HEALTHCARE_COVERAGE INCOME                                    Id  GENDER  \n",
       "0                 0.0  35460  54f1059e-6250-3949-6dd0-1dda9b85d22a       F  \n",
       "1                 0.0  88407  92675303-ca5b-136a-169b-e764c5753f06       M  \n",
       "2                 0.0  41800  a0b63e97-b6fd-5fe1-8f2d-2bec915efa97       M  \n",
       "3                 0.0  41915  abc59f62-dc5a-5095-1141-80b4ee8be73b       F  \n",
       "4                 0.0  67198  28d7b56c-6056-d0a2-2991-39d6e917216c       F  \n",
       "\n",
       "[5 rows x 28 columns]"
      ]
     },
     "metadata": {},
     "output_type": "display_data"
    }
   ],
   "source": [
    "patients_with_gender = patients.drop(columns='GENDER', axis=1).merge(patient_gender, left_on=\"PATIENT_ID\", right_on=\"Id\", how=\"left\")\n",
    "display(patients_with_gender.head())"
   ]
  },
  {
   "attachments": {},
   "cell_type": "markdown",
   "metadata": {},
   "source": [
    "#### 1. How many distinct patients are in the dataset?"
   ]
  },
  {
   "cell_type": "code",
   "execution_count": 19,
   "metadata": {},
   "outputs": [
    {
     "name": "stdout",
     "output_type": "stream",
     "text": [
      "Total distinct patients: 10000\n"
     ]
    }
   ],
   "source": [
    "num_distinct_patients = patients[\"PATIENT_ID\"].nunique()\n",
    "print(f\"Total distinct patients: {num_distinct_patients}\")"
   ]
  },
  {
   "attachments": {},
   "cell_type": "markdown",
   "metadata": {},
   "source": [
    "#### 2. Plot the distinct medications over time using a python plotting library."
   ]
  },
  {
   "cell_type": "code",
   "execution_count": 45,
   "metadata": {},
   "outputs": [
    {
     "data": {
      "application/vnd.plotly.v1+json": {
       "config": {
        "plotlyServerURL": "https://plot.ly"
       },
       "data": [
        {
         "hovertemplate": "Medication Type=PREDNISONE 20 MG ORAL TABLET<br>Month-Year=%{x}<br>Number of Uses=%{y}<extra></extra>",
         "legendgroup": "PREDNISONE 20 MG ORAL TABLET",
         "line": {
          "color": "#636efa",
          "dash": "solid"
         },
         "marker": {
          "symbol": "circle"
         },
         "mode": "markers+lines",
         "name": "PREDNISONE 20 MG ORAL TABLET",
         "orientation": "v",
         "showlegend": true,
         "type": "scatter",
         "x": [
          "Jan-2021",
          "Feb-2021",
          "Mar-2021",
          "Apr-2021",
          "May-2021",
          "Jun-2021",
          "Jul-2021",
          "Aug-2021",
          "Sep-2021",
          "Oct-2021",
          "Nov-2021",
          "Dec-2021",
          "Jan-2022",
          "Feb-2022",
          "Mar-2022",
          "Apr-2022",
          "May-2022",
          "Jun-2022",
          "Jul-2022",
          "Aug-2022",
          "Sep-2022",
          "Oct-2022",
          "Nov-2022",
          "Dec-2022",
          "Jan-2023",
          "Feb-2023",
          "Mar-2023",
          "Apr-2023",
          "May-2023",
          "Jun-2023",
          "Jul-2023",
          "Aug-2023",
          "Sep-2023",
          "Oct-2023",
          "Nov-2023",
          "Dec-2023",
          "Jan-2024"
         ],
         "xaxis": "x",
         "y": [
          5,
          7,
          7,
          7,
          9,
          10,
          7,
          7,
          9,
          7,
          11,
          13,
          10,
          4,
          7,
          7,
          4,
          10,
          14,
          6,
          9,
          8,
          8,
          15,
          6,
          4,
          8,
          10,
          6,
          6,
          10,
          7,
          12,
          11,
          8,
          6,
          11
         ],
         "yaxis": "y"
        },
        {
         "hovertemplate": "Medication Type=prednisone 20 mg oral tablet<br>Month-Year=%{x}<br>Number of Uses=%{y}<extra></extra>",
         "legendgroup": "prednisone 20 mg oral tablet",
         "line": {
          "color": "#EF553B",
          "dash": "solid"
         },
         "marker": {
          "symbol": "circle"
         },
         "mode": "markers+lines",
         "name": "prednisone 20 mg oral tablet",
         "orientation": "v",
         "showlegend": true,
         "type": "scatter",
         "x": [
          "Jan-2021",
          "Feb-2021",
          "Mar-2021",
          "Apr-2021",
          "May-2021",
          "Jun-2021",
          "Jul-2021",
          "Aug-2021",
          "Sep-2021",
          "Oct-2021",
          "Nov-2021",
          "Dec-2021",
          "Jan-2022",
          "Feb-2022",
          "Mar-2022",
          "Apr-2022",
          "May-2022",
          "Jun-2022",
          "Jul-2022",
          "Aug-2022",
          "Sep-2022",
          "Oct-2022",
          "Nov-2022",
          "Dec-2022",
          "Jan-2023",
          "Feb-2023",
          "Mar-2023",
          "Apr-2023",
          "May-2023",
          "Jun-2023",
          "Jul-2023",
          "Aug-2023",
          "Sep-2023",
          "Oct-2023",
          "Nov-2023",
          "Dec-2023",
          "Jan-2024"
         ],
         "xaxis": "x",
         "y": [
          6,
          1,
          5,
          5,
          7,
          2,
          3,
          4,
          3,
          2,
          2,
          4,
          7,
          8,
          3,
          4,
          2,
          4,
          4,
          8,
          5,
          3,
          5,
          3,
          3,
          3,
          3,
          6,
          5,
          8,
          3,
          3,
          7,
          8,
          5,
          6,
          3
         ],
         "yaxis": "y"
        },
        {
         "hovertemplate": "Medication Type=predniSONE 20 MG Oral Tablet<br>Month-Year=%{x}<br>Number of Uses=%{y}<extra></extra>",
         "legendgroup": "predniSONE 20 MG Oral Tablet",
         "line": {
          "color": "#00cc96",
          "dash": "solid"
         },
         "marker": {
          "symbol": "circle"
         },
         "mode": "markers+lines",
         "name": "predniSONE 20 MG Oral Tablet",
         "orientation": "v",
         "showlegend": true,
         "type": "scatter",
         "x": [
          "Jan-2021",
          "Feb-2021",
          "Mar-2021",
          "Apr-2021",
          "May-2021",
          "Jun-2021",
          "Jul-2021",
          "Aug-2021",
          "Sep-2021",
          "Oct-2021",
          "Nov-2021",
          "Dec-2021",
          "Jan-2022",
          "Feb-2022",
          "Mar-2022",
          "Apr-2022",
          "May-2022",
          "Jun-2022",
          "Jul-2022",
          "Aug-2022",
          "Sep-2022",
          "Oct-2022",
          "Nov-2022",
          "Dec-2022",
          "Jan-2023",
          "Feb-2023",
          "Mar-2023",
          "Apr-2023",
          "May-2023",
          "Jun-2023",
          "Jul-2023",
          "Aug-2023",
          "Sep-2023",
          "Oct-2023",
          "Nov-2023",
          "Dec-2023",
          "Jan-2024"
         ],
         "xaxis": "x",
         "y": [
          72,
          85,
          71,
          99,
          81,
          82,
          84,
          89,
          77,
          86,
          78,
          81,
          75,
          69,
          88,
          78,
          84,
          70,
          81,
          82,
          73,
          66,
          103,
          92,
          94,
          89,
          80,
          107,
          86,
          93,
          89,
          86,
          83,
          77,
          85,
          86,
          58
         ],
         "yaxis": "y"
        },
        {
         "hovertemplate": "Medication Type=cyclosporine  modified 100 mg oral capsule<br>Month-Year=%{x}<br>Number of Uses=%{y}<extra></extra>",
         "legendgroup": "cyclosporine  modified 100 mg oral capsule",
         "line": {
          "color": "#ab63fa",
          "dash": "solid"
         },
         "marker": {
          "symbol": "circle"
         },
         "mode": "markers+lines",
         "name": "cyclosporine  modified 100 mg oral capsule",
         "orientation": "v",
         "showlegend": true,
         "type": "scatter",
         "x": [
          "Jan-2021",
          "Feb-2021",
          "Mar-2021",
          "Apr-2021",
          "May-2021",
          "Jun-2021",
          "Jul-2021",
          "Aug-2021",
          "Sep-2021",
          "Oct-2021",
          "Jan-2022",
          "Feb-2022",
          "Mar-2022",
          "Apr-2022",
          "May-2022",
          "Jun-2022",
          "Jul-2022",
          "Aug-2022",
          "Sep-2022",
          "Oct-2022",
          "Nov-2022",
          "Dec-2022",
          "Jan-2023",
          "Feb-2023",
          "Mar-2023",
          "Apr-2023",
          "May-2023",
          "Jun-2023",
          "Jul-2023",
          "Aug-2023",
          "Sep-2023",
          "Oct-2023",
          "Nov-2023",
          "Dec-2023",
          "Jan-2024"
         ],
         "xaxis": "x",
         "y": [
          5,
          3,
          2,
          4,
          2,
          2,
          5,
          4,
          3,
          4,
          4,
          3,
          3,
          7,
          3,
          3,
          5,
          4,
          2,
          2,
          3,
          3,
          4,
          4,
          1,
          10,
          5,
          6,
          5,
          3,
          6,
          4,
          2,
          5,
          3
         ],
         "yaxis": "y"
        },
        {
         "hovertemplate": "Medication Type=cycloSPORINE  modified 100 MG Oral Capsule<br>Month-Year=%{x}<br>Number of Uses=%{y}<extra></extra>",
         "legendgroup": "cycloSPORINE  modified 100 MG Oral Capsule",
         "line": {
          "color": "#FFA15A",
          "dash": "solid"
         },
         "marker": {
          "symbol": "circle"
         },
         "mode": "markers+lines",
         "name": "cycloSPORINE  modified 100 MG Oral Capsule",
         "orientation": "v",
         "showlegend": true,
         "type": "scatter",
         "x": [
          "Jan-2021",
          "Feb-2021",
          "Mar-2021",
          "Apr-2021",
          "May-2021",
          "Jun-2021",
          "Jul-2021",
          "Aug-2021",
          "Sep-2021",
          "Oct-2021",
          "Nov-2021",
          "Dec-2021",
          "Jan-2022",
          "Feb-2022",
          "Mar-2022",
          "Apr-2022",
          "May-2022",
          "Jun-2022",
          "Jul-2022",
          "Aug-2022",
          "Sep-2022",
          "Oct-2022",
          "Nov-2022",
          "Dec-2022",
          "Jan-2023",
          "Feb-2023",
          "Mar-2023",
          "Apr-2023",
          "May-2023",
          "Jun-2023",
          "Jul-2023",
          "Aug-2023",
          "Sep-2023",
          "Oct-2023",
          "Nov-2023",
          "Dec-2023",
          "Jan-2024"
         ],
         "xaxis": "x",
         "y": [
          68,
          75,
          68,
          79,
          75,
          70,
          73,
          81,
          71,
          79,
          76,
          83,
          70,
          64,
          76,
          64,
          69,
          71,
          84,
          66,
          70,
          58,
          98,
          90,
          84,
          75,
          78,
          100,
          74,
          82,
          82,
          75,
          77,
          76,
          82,
          74,
          58
         ],
         "yaxis": "y"
        },
        {
         "hovertemplate": "Medication Type=Naproxen sodium 220 MG Oral Tablet<br>Month-Year=%{x}<br>Number of Uses=%{y}<extra></extra>",
         "legendgroup": "Naproxen sodium 220 MG Oral Tablet",
         "line": {
          "color": "#19d3f3",
          "dash": "solid"
         },
         "marker": {
          "symbol": "circle"
         },
         "mode": "markers+lines",
         "name": "Naproxen sodium 220 MG Oral Tablet",
         "orientation": "v",
         "showlegend": true,
         "type": "scatter",
         "x": [
          "Jan-2021",
          "Feb-2021",
          "Mar-2021",
          "Apr-2021",
          "May-2021",
          "Jun-2021",
          "Jul-2021",
          "Aug-2021",
          "Sep-2021",
          "Oct-2021",
          "Nov-2021",
          "Dec-2021",
          "Jan-2022",
          "Feb-2022",
          "Mar-2022",
          "Apr-2022",
          "May-2022",
          "Jun-2022",
          "Jul-2022",
          "Aug-2022",
          "Sep-2022",
          "Oct-2022",
          "Nov-2022",
          "Dec-2022",
          "Jan-2023",
          "Feb-2023",
          "Mar-2023",
          "Apr-2023",
          "May-2023",
          "Jun-2023",
          "Jul-2023",
          "Aug-2023",
          "Sep-2023",
          "Oct-2023",
          "Nov-2023",
          "Dec-2023",
          "Jan-2024"
         ],
         "xaxis": "x",
         "y": [
          5,
          7,
          8,
          14,
          12,
          12,
          8,
          7,
          6,
          7,
          5,
          9,
          11,
          10,
          6,
          9,
          12,
          3,
          4,
          15,
          4,
          6,
          3,
          12,
          3,
          7,
          4,
          8,
          12,
          9,
          6,
          10,
          7,
          10,
          8,
          13,
          5
         ],
         "yaxis": "y"
        },
        {
         "hovertemplate": "Medication Type=CYCLOSPORINE  MODIFIED 100 MG ORAL CAPSULE<br>Month-Year=%{x}<br>Number of Uses=%{y}<extra></extra>",
         "legendgroup": "CYCLOSPORINE  MODIFIED 100 MG ORAL CAPSULE",
         "line": {
          "color": "#FF6692",
          "dash": "solid"
         },
         "marker": {
          "symbol": "circle"
         },
         "mode": "markers+lines",
         "name": "CYCLOSPORINE  MODIFIED 100 MG ORAL CAPSULE",
         "orientation": "v",
         "showlegend": true,
         "type": "scatter",
         "x": [
          "Jan-2021",
          "Feb-2021",
          "Mar-2021",
          "Apr-2021",
          "May-2021",
          "Jun-2021",
          "Jul-2021",
          "Aug-2021",
          "Sep-2021",
          "Oct-2021",
          "Nov-2021",
          "Dec-2021",
          "Jan-2022",
          "Feb-2022",
          "Mar-2022",
          "Apr-2022",
          "May-2022",
          "Jun-2022",
          "Jul-2022",
          "Aug-2022",
          "Sep-2022",
          "Oct-2022",
          "Nov-2022",
          "Dec-2022",
          "Jan-2023",
          "Feb-2023",
          "Mar-2023",
          "Apr-2023",
          "May-2023",
          "Jun-2023",
          "Jul-2023",
          "Aug-2023",
          "Sep-2023",
          "Oct-2023",
          "Nov-2023",
          "Dec-2023",
          "Jan-2024"
         ],
         "xaxis": "x",
         "y": [
          5,
          7,
          4,
          12,
          8,
          7,
          8,
          7,
          7,
          5,
          8,
          4,
          7,
          4,
          12,
          6,
          5,
          7,
          5,
          8,
          9,
          10,
          9,
          5,
          11,
          9,
          8,
          5,
          5,
          8,
          9,
          7,
          10,
          5,
          4,
          6,
          6
         ],
         "yaxis": "y"
        },
        {
         "hovertemplate": "Medication Type=NAPROXEN SODIUM 220 MG ORAL TABLET<br>Month-Year=%{x}<br>Number of Uses=%{y}<extra></extra>",
         "legendgroup": "NAPROXEN SODIUM 220 MG ORAL TABLET",
         "line": {
          "color": "#B6E880",
          "dash": "solid"
         },
         "marker": {
          "symbol": "circle"
         },
         "mode": "markers+lines",
         "name": "NAPROXEN SODIUM 220 MG ORAL TABLET",
         "orientation": "v",
         "showlegend": true,
         "type": "scatter",
         "x": [
          "Feb-2021",
          "Apr-2021",
          "Jun-2021",
          "Aug-2021",
          "Nov-2021",
          "Dec-2021",
          "Mar-2022",
          "Apr-2022",
          "May-2022",
          "Jul-2022",
          "Aug-2022",
          "Sep-2022",
          "Nov-2022",
          "Jan-2023",
          "Feb-2023",
          "May-2023",
          "Jun-2023",
          "Sep-2023",
          "Oct-2023",
          "Nov-2023"
         ],
         "xaxis": "x",
         "y": [
          1,
          2,
          2,
          1,
          1,
          1,
          1,
          2,
          1,
          1,
          1,
          2,
          2,
          1,
          1,
          1,
          1,
          1,
          1,
          2
         ],
         "yaxis": "y"
        },
        {
         "hovertemplate": "Medication Type=ferrous sulfate 325 mg oral tablet<br>Month-Year=%{x}<br>Number of Uses=%{y}<extra></extra>",
         "legendgroup": "ferrous sulfate 325 mg oral tablet",
         "line": {
          "color": "#FF97FF",
          "dash": "solid"
         },
         "marker": {
          "symbol": "circle"
         },
         "mode": "markers+lines",
         "name": "ferrous sulfate 325 mg oral tablet",
         "orientation": "v",
         "showlegend": true,
         "type": "scatter",
         "x": [
          "Feb-2021"
         ],
         "xaxis": "x",
         "y": [
          1
         ],
         "yaxis": "y"
        },
        {
         "hovertemplate": "Medication Type=FERROUS SULFATE 325 MG ORAL TABLET<br>Month-Year=%{x}<br>Number of Uses=%{y}<extra></extra>",
         "legendgroup": "FERROUS SULFATE 325 MG ORAL TABLET",
         "line": {
          "color": "#FECB52",
          "dash": "solid"
         },
         "marker": {
          "symbol": "circle"
         },
         "mode": "markers+lines",
         "name": "FERROUS SULFATE 325 MG ORAL TABLET",
         "orientation": "v",
         "showlegend": true,
         "type": "scatter",
         "x": [
          "Feb-2021"
         ],
         "xaxis": "x",
         "y": [
          1
         ],
         "yaxis": "y"
        },
        {
         "hovertemplate": "Medication Type=naproxen sodium 220 mg oral tablet<br>Month-Year=%{x}<br>Number of Uses=%{y}<extra></extra>",
         "legendgroup": "naproxen sodium 220 mg oral tablet",
         "line": {
          "color": "#636efa",
          "dash": "solid"
         },
         "marker": {
          "symbol": "circle"
         },
         "mode": "markers+lines",
         "name": "naproxen sodium 220 mg oral tablet",
         "orientation": "v",
         "showlegend": true,
         "type": "scatter",
         "x": [
          "Mar-2021",
          "Jun-2021",
          "Sep-2021",
          "Nov-2021",
          "Dec-2021",
          "Apr-2022",
          "Aug-2022",
          "Oct-2022",
          "Nov-2022",
          "Jun-2023",
          "Aug-2023",
          "Sep-2023"
         ],
         "xaxis": "x",
         "y": [
          1,
          1,
          2,
          1,
          1,
          1,
          2,
          1,
          1,
          1,
          1,
          1
         ],
         "yaxis": "y"
        },
        {
         "hovertemplate": "Medication Type=Vitamin B12 5 MG/ML Injectable Solution<br>Month-Year=%{x}<br>Number of Uses=%{y}<extra></extra>",
         "legendgroup": "Vitamin B12 5 MG/ML Injectable Solution",
         "line": {
          "color": "#EF553B",
          "dash": "solid"
         },
         "marker": {
          "symbol": "circle"
         },
         "mode": "markers+lines",
         "name": "Vitamin B12 5 MG/ML Injectable Solution",
         "orientation": "v",
         "showlegend": true,
         "type": "scatter",
         "x": [
          "Mar-2021",
          "May-2021",
          "Oct-2021",
          "Dec-2021",
          "Jan-2022",
          "Feb-2022",
          "Apr-2022",
          "Jun-2022",
          "Aug-2022",
          "Dec-2022",
          "Jul-2023",
          "Aug-2023",
          "Nov-2023"
         ],
         "xaxis": "x",
         "y": [
          2,
          3,
          1,
          1,
          1,
          1,
          2,
          1,
          1,
          1,
          1,
          1,
          1
         ],
         "yaxis": "y"
        },
        {
         "hovertemplate": "Medication Type=ferrous sulfate 325 MG Oral Tablet<br>Month-Year=%{x}<br>Number of Uses=%{y}<extra></extra>",
         "legendgroup": "ferrous sulfate 325 MG Oral Tablet",
         "line": {
          "color": "#00cc96",
          "dash": "solid"
         },
         "marker": {
          "symbol": "circle"
         },
         "mode": "markers+lines",
         "name": "ferrous sulfate 325 MG Oral Tablet",
         "orientation": "v",
         "showlegend": true,
         "type": "scatter",
         "x": [
          "Apr-2021",
          "May-2021",
          "Jan-2022",
          "Feb-2022",
          "Apr-2022",
          "Jul-2022",
          "Oct-2022",
          "Dec-2022",
          "Jan-2023",
          "Feb-2023",
          "May-2023",
          "Aug-2023",
          "Sep-2023",
          "Nov-2023",
          "Dec-2023"
         ],
         "xaxis": "x",
         "y": [
          1,
          1,
          1,
          1,
          3,
          1,
          1,
          1,
          1,
          1,
          2,
          1,
          1,
          1,
          2
         ],
         "yaxis": "y"
        },
        {
         "hovertemplate": "Medication Type=vitamin b12 5 mg/ml injectable solution<br>Month-Year=%{x}<br>Number of Uses=%{y}<extra></extra>",
         "legendgroup": "vitamin b12 5 mg/ml injectable solution",
         "line": {
          "color": "#ab63fa",
          "dash": "solid"
         },
         "marker": {
          "symbol": "circle"
         },
         "mode": "markers+lines",
         "name": "vitamin b12 5 mg/ml injectable solution",
         "orientation": "v",
         "showlegend": true,
         "type": "scatter",
         "x": [
          "Dec-2021"
         ],
         "xaxis": "x",
         "y": [
          1
         ],
         "yaxis": "y"
        },
        {
         "hovertemplate": "Medication Type=VITAMIN B12 5 MG/ML INJECTABLE SOLUTION<br>Month-Year=%{x}<br>Number of Uses=%{y}<extra></extra>",
         "legendgroup": "VITAMIN B12 5 MG/ML INJECTABLE SOLUTION",
         "line": {
          "color": "#FFA15A",
          "dash": "solid"
         },
         "marker": {
          "symbol": "circle"
         },
         "mode": "markers+lines",
         "name": "VITAMIN B12 5 MG/ML INJECTABLE SOLUTION",
         "orientation": "v",
         "showlegend": true,
         "type": "scatter",
         "x": [
          "Nov-2023"
         ],
         "xaxis": "x",
         "y": [
          1
         ],
         "yaxis": "y"
        }
       ],
       "layout": {
        "legend": {
         "title": {
          "text": "Medication Type"
         },
         "tracegroupgap": 0
        },
        "template": {
         "data": {
          "bar": [
           {
            "error_x": {
             "color": "#2a3f5f"
            },
            "error_y": {
             "color": "#2a3f5f"
            },
            "marker": {
             "line": {
              "color": "#E5ECF6",
              "width": 0.5
             },
             "pattern": {
              "fillmode": "overlay",
              "size": 10,
              "solidity": 0.2
             }
            },
            "type": "bar"
           }
          ],
          "barpolar": [
           {
            "marker": {
             "line": {
              "color": "#E5ECF6",
              "width": 0.5
             },
             "pattern": {
              "fillmode": "overlay",
              "size": 10,
              "solidity": 0.2
             }
            },
            "type": "barpolar"
           }
          ],
          "carpet": [
           {
            "aaxis": {
             "endlinecolor": "#2a3f5f",
             "gridcolor": "white",
             "linecolor": "white",
             "minorgridcolor": "white",
             "startlinecolor": "#2a3f5f"
            },
            "baxis": {
             "endlinecolor": "#2a3f5f",
             "gridcolor": "white",
             "linecolor": "white",
             "minorgridcolor": "white",
             "startlinecolor": "#2a3f5f"
            },
            "type": "carpet"
           }
          ],
          "choropleth": [
           {
            "colorbar": {
             "outlinewidth": 0,
             "ticks": ""
            },
            "type": "choropleth"
           }
          ],
          "contour": [
           {
            "colorbar": {
             "outlinewidth": 0,
             "ticks": ""
            },
            "colorscale": [
             [
              0,
              "#0d0887"
             ],
             [
              0.1111111111111111,
              "#46039f"
             ],
             [
              0.2222222222222222,
              "#7201a8"
             ],
             [
              0.3333333333333333,
              "#9c179e"
             ],
             [
              0.4444444444444444,
              "#bd3786"
             ],
             [
              0.5555555555555556,
              "#d8576b"
             ],
             [
              0.6666666666666666,
              "#ed7953"
             ],
             [
              0.7777777777777778,
              "#fb9f3a"
             ],
             [
              0.8888888888888888,
              "#fdca26"
             ],
             [
              1,
              "#f0f921"
             ]
            ],
            "type": "contour"
           }
          ],
          "contourcarpet": [
           {
            "colorbar": {
             "outlinewidth": 0,
             "ticks": ""
            },
            "type": "contourcarpet"
           }
          ],
          "heatmap": [
           {
            "colorbar": {
             "outlinewidth": 0,
             "ticks": ""
            },
            "colorscale": [
             [
              0,
              "#0d0887"
             ],
             [
              0.1111111111111111,
              "#46039f"
             ],
             [
              0.2222222222222222,
              "#7201a8"
             ],
             [
              0.3333333333333333,
              "#9c179e"
             ],
             [
              0.4444444444444444,
              "#bd3786"
             ],
             [
              0.5555555555555556,
              "#d8576b"
             ],
             [
              0.6666666666666666,
              "#ed7953"
             ],
             [
              0.7777777777777778,
              "#fb9f3a"
             ],
             [
              0.8888888888888888,
              "#fdca26"
             ],
             [
              1,
              "#f0f921"
             ]
            ],
            "type": "heatmap"
           }
          ],
          "heatmapgl": [
           {
            "colorbar": {
             "outlinewidth": 0,
             "ticks": ""
            },
            "colorscale": [
             [
              0,
              "#0d0887"
             ],
             [
              0.1111111111111111,
              "#46039f"
             ],
             [
              0.2222222222222222,
              "#7201a8"
             ],
             [
              0.3333333333333333,
              "#9c179e"
             ],
             [
              0.4444444444444444,
              "#bd3786"
             ],
             [
              0.5555555555555556,
              "#d8576b"
             ],
             [
              0.6666666666666666,
              "#ed7953"
             ],
             [
              0.7777777777777778,
              "#fb9f3a"
             ],
             [
              0.8888888888888888,
              "#fdca26"
             ],
             [
              1,
              "#f0f921"
             ]
            ],
            "type": "heatmapgl"
           }
          ],
          "histogram": [
           {
            "marker": {
             "pattern": {
              "fillmode": "overlay",
              "size": 10,
              "solidity": 0.2
             }
            },
            "type": "histogram"
           }
          ],
          "histogram2d": [
           {
            "colorbar": {
             "outlinewidth": 0,
             "ticks": ""
            },
            "colorscale": [
             [
              0,
              "#0d0887"
             ],
             [
              0.1111111111111111,
              "#46039f"
             ],
             [
              0.2222222222222222,
              "#7201a8"
             ],
             [
              0.3333333333333333,
              "#9c179e"
             ],
             [
              0.4444444444444444,
              "#bd3786"
             ],
             [
              0.5555555555555556,
              "#d8576b"
             ],
             [
              0.6666666666666666,
              "#ed7953"
             ],
             [
              0.7777777777777778,
              "#fb9f3a"
             ],
             [
              0.8888888888888888,
              "#fdca26"
             ],
             [
              1,
              "#f0f921"
             ]
            ],
            "type": "histogram2d"
           }
          ],
          "histogram2dcontour": [
           {
            "colorbar": {
             "outlinewidth": 0,
             "ticks": ""
            },
            "colorscale": [
             [
              0,
              "#0d0887"
             ],
             [
              0.1111111111111111,
              "#46039f"
             ],
             [
              0.2222222222222222,
              "#7201a8"
             ],
             [
              0.3333333333333333,
              "#9c179e"
             ],
             [
              0.4444444444444444,
              "#bd3786"
             ],
             [
              0.5555555555555556,
              "#d8576b"
             ],
             [
              0.6666666666666666,
              "#ed7953"
             ],
             [
              0.7777777777777778,
              "#fb9f3a"
             ],
             [
              0.8888888888888888,
              "#fdca26"
             ],
             [
              1,
              "#f0f921"
             ]
            ],
            "type": "histogram2dcontour"
           }
          ],
          "mesh3d": [
           {
            "colorbar": {
             "outlinewidth": 0,
             "ticks": ""
            },
            "type": "mesh3d"
           }
          ],
          "parcoords": [
           {
            "line": {
             "colorbar": {
              "outlinewidth": 0,
              "ticks": ""
             }
            },
            "type": "parcoords"
           }
          ],
          "pie": [
           {
            "automargin": true,
            "type": "pie"
           }
          ],
          "scatter": [
           {
            "fillpattern": {
             "fillmode": "overlay",
             "size": 10,
             "solidity": 0.2
            },
            "type": "scatter"
           }
          ],
          "scatter3d": [
           {
            "line": {
             "colorbar": {
              "outlinewidth": 0,
              "ticks": ""
             }
            },
            "marker": {
             "colorbar": {
              "outlinewidth": 0,
              "ticks": ""
             }
            },
            "type": "scatter3d"
           }
          ],
          "scattercarpet": [
           {
            "marker": {
             "colorbar": {
              "outlinewidth": 0,
              "ticks": ""
             }
            },
            "type": "scattercarpet"
           }
          ],
          "scattergeo": [
           {
            "marker": {
             "colorbar": {
              "outlinewidth": 0,
              "ticks": ""
             }
            },
            "type": "scattergeo"
           }
          ],
          "scattergl": [
           {
            "marker": {
             "colorbar": {
              "outlinewidth": 0,
              "ticks": ""
             }
            },
            "type": "scattergl"
           }
          ],
          "scattermapbox": [
           {
            "marker": {
             "colorbar": {
              "outlinewidth": 0,
              "ticks": ""
             }
            },
            "type": "scattermapbox"
           }
          ],
          "scatterpolar": [
           {
            "marker": {
             "colorbar": {
              "outlinewidth": 0,
              "ticks": ""
             }
            },
            "type": "scatterpolar"
           }
          ],
          "scatterpolargl": [
           {
            "marker": {
             "colorbar": {
              "outlinewidth": 0,
              "ticks": ""
             }
            },
            "type": "scatterpolargl"
           }
          ],
          "scatterternary": [
           {
            "marker": {
             "colorbar": {
              "outlinewidth": 0,
              "ticks": ""
             }
            },
            "type": "scatterternary"
           }
          ],
          "surface": [
           {
            "colorbar": {
             "outlinewidth": 0,
             "ticks": ""
            },
            "colorscale": [
             [
              0,
              "#0d0887"
             ],
             [
              0.1111111111111111,
              "#46039f"
             ],
             [
              0.2222222222222222,
              "#7201a8"
             ],
             [
              0.3333333333333333,
              "#9c179e"
             ],
             [
              0.4444444444444444,
              "#bd3786"
             ],
             [
              0.5555555555555556,
              "#d8576b"
             ],
             [
              0.6666666666666666,
              "#ed7953"
             ],
             [
              0.7777777777777778,
              "#fb9f3a"
             ],
             [
              0.8888888888888888,
              "#fdca26"
             ],
             [
              1,
              "#f0f921"
             ]
            ],
            "type": "surface"
           }
          ],
          "table": [
           {
            "cells": {
             "fill": {
              "color": "#EBF0F8"
             },
             "line": {
              "color": "white"
             }
            },
            "header": {
             "fill": {
              "color": "#C8D4E3"
             },
             "line": {
              "color": "white"
             }
            },
            "type": "table"
           }
          ]
         },
         "layout": {
          "annotationdefaults": {
           "arrowcolor": "#2a3f5f",
           "arrowhead": 0,
           "arrowwidth": 1
          },
          "autotypenumbers": "strict",
          "coloraxis": {
           "colorbar": {
            "outlinewidth": 0,
            "ticks": ""
           }
          },
          "colorscale": {
           "diverging": [
            [
             0,
             "#8e0152"
            ],
            [
             0.1,
             "#c51b7d"
            ],
            [
             0.2,
             "#de77ae"
            ],
            [
             0.3,
             "#f1b6da"
            ],
            [
             0.4,
             "#fde0ef"
            ],
            [
             0.5,
             "#f7f7f7"
            ],
            [
             0.6,
             "#e6f5d0"
            ],
            [
             0.7,
             "#b8e186"
            ],
            [
             0.8,
             "#7fbc41"
            ],
            [
             0.9,
             "#4d9221"
            ],
            [
             1,
             "#276419"
            ]
           ],
           "sequential": [
            [
             0,
             "#0d0887"
            ],
            [
             0.1111111111111111,
             "#46039f"
            ],
            [
             0.2222222222222222,
             "#7201a8"
            ],
            [
             0.3333333333333333,
             "#9c179e"
            ],
            [
             0.4444444444444444,
             "#bd3786"
            ],
            [
             0.5555555555555556,
             "#d8576b"
            ],
            [
             0.6666666666666666,
             "#ed7953"
            ],
            [
             0.7777777777777778,
             "#fb9f3a"
            ],
            [
             0.8888888888888888,
             "#fdca26"
            ],
            [
             1,
             "#f0f921"
            ]
           ],
           "sequentialminus": [
            [
             0,
             "#0d0887"
            ],
            [
             0.1111111111111111,
             "#46039f"
            ],
            [
             0.2222222222222222,
             "#7201a8"
            ],
            [
             0.3333333333333333,
             "#9c179e"
            ],
            [
             0.4444444444444444,
             "#bd3786"
            ],
            [
             0.5555555555555556,
             "#d8576b"
            ],
            [
             0.6666666666666666,
             "#ed7953"
            ],
            [
             0.7777777777777778,
             "#fb9f3a"
            ],
            [
             0.8888888888888888,
             "#fdca26"
            ],
            [
             1,
             "#f0f921"
            ]
           ]
          },
          "colorway": [
           "#636efa",
           "#EF553B",
           "#00cc96",
           "#ab63fa",
           "#FFA15A",
           "#19d3f3",
           "#FF6692",
           "#B6E880",
           "#FF97FF",
           "#FECB52"
          ],
          "font": {
           "color": "#2a3f5f"
          },
          "geo": {
           "bgcolor": "white",
           "lakecolor": "white",
           "landcolor": "#E5ECF6",
           "showlakes": true,
           "showland": true,
           "subunitcolor": "white"
          },
          "hoverlabel": {
           "align": "left"
          },
          "hovermode": "closest",
          "mapbox": {
           "style": "light"
          },
          "paper_bgcolor": "white",
          "plot_bgcolor": "#E5ECF6",
          "polar": {
           "angularaxis": {
            "gridcolor": "white",
            "linecolor": "white",
            "ticks": ""
           },
           "bgcolor": "#E5ECF6",
           "radialaxis": {
            "gridcolor": "white",
            "linecolor": "white",
            "ticks": ""
           }
          },
          "scene": {
           "xaxis": {
            "backgroundcolor": "#E5ECF6",
            "gridcolor": "white",
            "gridwidth": 2,
            "linecolor": "white",
            "showbackground": true,
            "ticks": "",
            "zerolinecolor": "white"
           },
           "yaxis": {
            "backgroundcolor": "#E5ECF6",
            "gridcolor": "white",
            "gridwidth": 2,
            "linecolor": "white",
            "showbackground": true,
            "ticks": "",
            "zerolinecolor": "white"
           },
           "zaxis": {
            "backgroundcolor": "#E5ECF6",
            "gridcolor": "white",
            "gridwidth": 2,
            "linecolor": "white",
            "showbackground": true,
            "ticks": "",
            "zerolinecolor": "white"
           }
          },
          "shapedefaults": {
           "line": {
            "color": "#2a3f5f"
           }
          },
          "ternary": {
           "aaxis": {
            "gridcolor": "white",
            "linecolor": "white",
            "ticks": ""
           },
           "baxis": {
            "gridcolor": "white",
            "linecolor": "white",
            "ticks": ""
           },
           "bgcolor": "#E5ECF6",
           "caxis": {
            "gridcolor": "white",
            "linecolor": "white",
            "ticks": ""
           }
          },
          "title": {
           "x": 0.05
          },
          "xaxis": {
           "automargin": true,
           "gridcolor": "white",
           "linecolor": "white",
           "ticks": "",
           "title": {
            "standoff": 15
           },
           "zerolinecolor": "white",
           "zerolinewidth": 2
          },
          "yaxis": {
           "automargin": true,
           "gridcolor": "white",
           "linecolor": "white",
           "ticks": "",
           "title": {
            "standoff": 15
           },
           "zerolinecolor": "white",
           "zerolinewidth": 2
          }
         }
        },
        "title": {
         "text": "Medication Usage Over Time (Filtered & Aggregated by Month)"
        },
        "xaxis": {
         "anchor": "y",
         "domain": [
          0,
          1
         ],
         "tickangle": -45,
         "title": {
          "text": "Month-Year"
         }
        },
        "yaxis": {
         "anchor": "x",
         "domain": [
          0,
          1
         ],
         "title": {
          "text": "Number of Uses"
         }
        }
       }
      }
     },
     "metadata": {},
     "output_type": "display_data"
    }
   ],
   "source": [
    "\n",
    "medications[\"START\"] = pd.to_datetime(medications[\"START\"], errors=\"coerce\")  \n",
    "medications = medications.dropna(subset=[\"START\"])\n",
    "\n",
    "# filter data for last 3 years\n",
    "medications = medications[medications[\"START\"] >= \"2021-01-01\"]\n",
    "\n",
    "\n",
    "medications = medications.drop_duplicates()\n",
    "\n",
    "#'Month-Year' column\n",
    "medications[\"MONTH_YEAR\"] = medications[\"START\"].dt.strftime(\"%b-%Y\")\n",
    "\n",
    "medication_counts = medications.groupby([\"MONTH_YEAR\", \"DESCRIPTION\"])[\"PATIENT\"].count().reset_index()\n",
    "\n",
    "# Rename column for clarity in graph\n",
    "medication_counts.rename(columns={\"PATIENT\": \"COUNT\"}, inplace=True)\n",
    "\n",
    "medication_counts[\"MONTH_YEAR\"] = pd.to_datetime(medication_counts[\"MONTH_YEAR\"], format=\"%b-%Y\")\n",
    "medication_counts = medication_counts.sort_values(\"MONTH_YEAR\")\n",
    "\n",
    "medication_counts[\"MONTH_YEAR\"] = medication_counts[\"MONTH_YEAR\"].dt.strftime(\"%b-%Y\")\n",
    "\n",
    "\n",
    "fig = px.line(medication_counts, \n",
    "              x=\"MONTH_YEAR\", \n",
    "              y=\"COUNT\", \n",
    "              color=\"DESCRIPTION\",\n",
    "              title=\"Medication Usage Over Time (Filtered & Aggregated by Month)\",\n",
    "              labels={\"COUNT\": \"Number of Uses\", \"MONTH_YEAR\": \"Month-Year\", \"DESCRIPTION\": \"Medication Type\"},\n",
    "              markers=True)\n",
    "\n",
    "# Rotate x-axis labels for better readability\n",
    "fig.update_layout(xaxis=dict(tickangle=-45))\n",
    "\n",
    "fig.show()"
   ]
  },
  {
   "cell_type": "markdown",
   "metadata": {},
   "source": []
  },
  {
   "attachments": {},
   "cell_type": "markdown",
   "metadata": {},
   "source": [
    "### Pie Chart of Patients Across Race & Gender"
   ]
  },
  {
   "cell_type": "code",
   "execution_count": 47,
   "metadata": {},
   "outputs": [
    {
     "data": {
      "application/vnd.plotly.v1+json": {
       "config": {
        "plotlyServerURL": "https://plot.ly"
       },
       "data": [
        {
         "customdata": [
          [
           "asian"
          ],
          [
           "asian"
          ],
          [
           "black"
          ],
          [
           "black"
          ],
          [
           "hawaiian"
          ],
          [
           "hawaiian"
          ],
          [
           "native"
          ],
          [
           "native"
          ],
          [
           "other"
          ],
          [
           "other"
          ],
          [
           "white"
          ],
          [
           "white"
          ]
         ],
         "domain": {
          "x": [
           0,
           1
          ],
          "y": [
           0,
           1
          ]
         },
         "hole": 0.4,
         "hovertemplate": "RACE=%{customdata[0]}<br>count=%{value}<extra></extra>",
         "labels": [
          "asian",
          "asian",
          "black",
          "black",
          "hawaiian",
          "hawaiian",
          "native",
          "native",
          "other",
          "other",
          "white",
          "white"
         ],
         "legendgroup": "",
         "marker": {
          "colors": [
           "#636efa",
           "#636efa",
           "#EF553B",
           "#EF553B",
           "#00cc96",
           "#00cc96",
           "#ab63fa",
           "#ab63fa",
           "#FFA15A",
           "#FFA15A",
           "#19d3f3",
           "#19d3f3"
          ]
         },
         "name": "",
         "showlegend": true,
         "type": "pie",
         "values": [
          268,
          247,
          628,
          623,
          52,
          44,
          47,
          64,
          48,
          47,
          4047,
          3885
         ]
        }
       ],
       "layout": {
        "legend": {
         "tracegroupgap": 0
        },
        "template": {
         "data": {
          "bar": [
           {
            "error_x": {
             "color": "#2a3f5f"
            },
            "error_y": {
             "color": "#2a3f5f"
            },
            "marker": {
             "line": {
              "color": "#E5ECF6",
              "width": 0.5
             },
             "pattern": {
              "fillmode": "overlay",
              "size": 10,
              "solidity": 0.2
             }
            },
            "type": "bar"
           }
          ],
          "barpolar": [
           {
            "marker": {
             "line": {
              "color": "#E5ECF6",
              "width": 0.5
             },
             "pattern": {
              "fillmode": "overlay",
              "size": 10,
              "solidity": 0.2
             }
            },
            "type": "barpolar"
           }
          ],
          "carpet": [
           {
            "aaxis": {
             "endlinecolor": "#2a3f5f",
             "gridcolor": "white",
             "linecolor": "white",
             "minorgridcolor": "white",
             "startlinecolor": "#2a3f5f"
            },
            "baxis": {
             "endlinecolor": "#2a3f5f",
             "gridcolor": "white",
             "linecolor": "white",
             "minorgridcolor": "white",
             "startlinecolor": "#2a3f5f"
            },
            "type": "carpet"
           }
          ],
          "choropleth": [
           {
            "colorbar": {
             "outlinewidth": 0,
             "ticks": ""
            },
            "type": "choropleth"
           }
          ],
          "contour": [
           {
            "colorbar": {
             "outlinewidth": 0,
             "ticks": ""
            },
            "colorscale": [
             [
              0,
              "#0d0887"
             ],
             [
              0.1111111111111111,
              "#46039f"
             ],
             [
              0.2222222222222222,
              "#7201a8"
             ],
             [
              0.3333333333333333,
              "#9c179e"
             ],
             [
              0.4444444444444444,
              "#bd3786"
             ],
             [
              0.5555555555555556,
              "#d8576b"
             ],
             [
              0.6666666666666666,
              "#ed7953"
             ],
             [
              0.7777777777777778,
              "#fb9f3a"
             ],
             [
              0.8888888888888888,
              "#fdca26"
             ],
             [
              1,
              "#f0f921"
             ]
            ],
            "type": "contour"
           }
          ],
          "contourcarpet": [
           {
            "colorbar": {
             "outlinewidth": 0,
             "ticks": ""
            },
            "type": "contourcarpet"
           }
          ],
          "heatmap": [
           {
            "colorbar": {
             "outlinewidth": 0,
             "ticks": ""
            },
            "colorscale": [
             [
              0,
              "#0d0887"
             ],
             [
              0.1111111111111111,
              "#46039f"
             ],
             [
              0.2222222222222222,
              "#7201a8"
             ],
             [
              0.3333333333333333,
              "#9c179e"
             ],
             [
              0.4444444444444444,
              "#bd3786"
             ],
             [
              0.5555555555555556,
              "#d8576b"
             ],
             [
              0.6666666666666666,
              "#ed7953"
             ],
             [
              0.7777777777777778,
              "#fb9f3a"
             ],
             [
              0.8888888888888888,
              "#fdca26"
             ],
             [
              1,
              "#f0f921"
             ]
            ],
            "type": "heatmap"
           }
          ],
          "heatmapgl": [
           {
            "colorbar": {
             "outlinewidth": 0,
             "ticks": ""
            },
            "colorscale": [
             [
              0,
              "#0d0887"
             ],
             [
              0.1111111111111111,
              "#46039f"
             ],
             [
              0.2222222222222222,
              "#7201a8"
             ],
             [
              0.3333333333333333,
              "#9c179e"
             ],
             [
              0.4444444444444444,
              "#bd3786"
             ],
             [
              0.5555555555555556,
              "#d8576b"
             ],
             [
              0.6666666666666666,
              "#ed7953"
             ],
             [
              0.7777777777777778,
              "#fb9f3a"
             ],
             [
              0.8888888888888888,
              "#fdca26"
             ],
             [
              1,
              "#f0f921"
             ]
            ],
            "type": "heatmapgl"
           }
          ],
          "histogram": [
           {
            "marker": {
             "pattern": {
              "fillmode": "overlay",
              "size": 10,
              "solidity": 0.2
             }
            },
            "type": "histogram"
           }
          ],
          "histogram2d": [
           {
            "colorbar": {
             "outlinewidth": 0,
             "ticks": ""
            },
            "colorscale": [
             [
              0,
              "#0d0887"
             ],
             [
              0.1111111111111111,
              "#46039f"
             ],
             [
              0.2222222222222222,
              "#7201a8"
             ],
             [
              0.3333333333333333,
              "#9c179e"
             ],
             [
              0.4444444444444444,
              "#bd3786"
             ],
             [
              0.5555555555555556,
              "#d8576b"
             ],
             [
              0.6666666666666666,
              "#ed7953"
             ],
             [
              0.7777777777777778,
              "#fb9f3a"
             ],
             [
              0.8888888888888888,
              "#fdca26"
             ],
             [
              1,
              "#f0f921"
             ]
            ],
            "type": "histogram2d"
           }
          ],
          "histogram2dcontour": [
           {
            "colorbar": {
             "outlinewidth": 0,
             "ticks": ""
            },
            "colorscale": [
             [
              0,
              "#0d0887"
             ],
             [
              0.1111111111111111,
              "#46039f"
             ],
             [
              0.2222222222222222,
              "#7201a8"
             ],
             [
              0.3333333333333333,
              "#9c179e"
             ],
             [
              0.4444444444444444,
              "#bd3786"
             ],
             [
              0.5555555555555556,
              "#d8576b"
             ],
             [
              0.6666666666666666,
              "#ed7953"
             ],
             [
              0.7777777777777778,
              "#fb9f3a"
             ],
             [
              0.8888888888888888,
              "#fdca26"
             ],
             [
              1,
              "#f0f921"
             ]
            ],
            "type": "histogram2dcontour"
           }
          ],
          "mesh3d": [
           {
            "colorbar": {
             "outlinewidth": 0,
             "ticks": ""
            },
            "type": "mesh3d"
           }
          ],
          "parcoords": [
           {
            "line": {
             "colorbar": {
              "outlinewidth": 0,
              "ticks": ""
             }
            },
            "type": "parcoords"
           }
          ],
          "pie": [
           {
            "automargin": true,
            "type": "pie"
           }
          ],
          "scatter": [
           {
            "fillpattern": {
             "fillmode": "overlay",
             "size": 10,
             "solidity": 0.2
            },
            "type": "scatter"
           }
          ],
          "scatter3d": [
           {
            "line": {
             "colorbar": {
              "outlinewidth": 0,
              "ticks": ""
             }
            },
            "marker": {
             "colorbar": {
              "outlinewidth": 0,
              "ticks": ""
             }
            },
            "type": "scatter3d"
           }
          ],
          "scattercarpet": [
           {
            "marker": {
             "colorbar": {
              "outlinewidth": 0,
              "ticks": ""
             }
            },
            "type": "scattercarpet"
           }
          ],
          "scattergeo": [
           {
            "marker": {
             "colorbar": {
              "outlinewidth": 0,
              "ticks": ""
             }
            },
            "type": "scattergeo"
           }
          ],
          "scattergl": [
           {
            "marker": {
             "colorbar": {
              "outlinewidth": 0,
              "ticks": ""
             }
            },
            "type": "scattergl"
           }
          ],
          "scattermapbox": [
           {
            "marker": {
             "colorbar": {
              "outlinewidth": 0,
              "ticks": ""
             }
            },
            "type": "scattermapbox"
           }
          ],
          "scatterpolar": [
           {
            "marker": {
             "colorbar": {
              "outlinewidth": 0,
              "ticks": ""
             }
            },
            "type": "scatterpolar"
           }
          ],
          "scatterpolargl": [
           {
            "marker": {
             "colorbar": {
              "outlinewidth": 0,
              "ticks": ""
             }
            },
            "type": "scatterpolargl"
           }
          ],
          "scatterternary": [
           {
            "marker": {
             "colorbar": {
              "outlinewidth": 0,
              "ticks": ""
             }
            },
            "type": "scatterternary"
           }
          ],
          "surface": [
           {
            "colorbar": {
             "outlinewidth": 0,
             "ticks": ""
            },
            "colorscale": [
             [
              0,
              "#0d0887"
             ],
             [
              0.1111111111111111,
              "#46039f"
             ],
             [
              0.2222222222222222,
              "#7201a8"
             ],
             [
              0.3333333333333333,
              "#9c179e"
             ],
             [
              0.4444444444444444,
              "#bd3786"
             ],
             [
              0.5555555555555556,
              "#d8576b"
             ],
             [
              0.6666666666666666,
              "#ed7953"
             ],
             [
              0.7777777777777778,
              "#fb9f3a"
             ],
             [
              0.8888888888888888,
              "#fdca26"
             ],
             [
              1,
              "#f0f921"
             ]
            ],
            "type": "surface"
           }
          ],
          "table": [
           {
            "cells": {
             "fill": {
              "color": "#EBF0F8"
             },
             "line": {
              "color": "white"
             }
            },
            "header": {
             "fill": {
              "color": "#C8D4E3"
             },
             "line": {
              "color": "white"
             }
            },
            "type": "table"
           }
          ]
         },
         "layout": {
          "annotationdefaults": {
           "arrowcolor": "#2a3f5f",
           "arrowhead": 0,
           "arrowwidth": 1
          },
          "autotypenumbers": "strict",
          "coloraxis": {
           "colorbar": {
            "outlinewidth": 0,
            "ticks": ""
           }
          },
          "colorscale": {
           "diverging": [
            [
             0,
             "#8e0152"
            ],
            [
             0.1,
             "#c51b7d"
            ],
            [
             0.2,
             "#de77ae"
            ],
            [
             0.3,
             "#f1b6da"
            ],
            [
             0.4,
             "#fde0ef"
            ],
            [
             0.5,
             "#f7f7f7"
            ],
            [
             0.6,
             "#e6f5d0"
            ],
            [
             0.7,
             "#b8e186"
            ],
            [
             0.8,
             "#7fbc41"
            ],
            [
             0.9,
             "#4d9221"
            ],
            [
             1,
             "#276419"
            ]
           ],
           "sequential": [
            [
             0,
             "#0d0887"
            ],
            [
             0.1111111111111111,
             "#46039f"
            ],
            [
             0.2222222222222222,
             "#7201a8"
            ],
            [
             0.3333333333333333,
             "#9c179e"
            ],
            [
             0.4444444444444444,
             "#bd3786"
            ],
            [
             0.5555555555555556,
             "#d8576b"
            ],
            [
             0.6666666666666666,
             "#ed7953"
            ],
            [
             0.7777777777777778,
             "#fb9f3a"
            ],
            [
             0.8888888888888888,
             "#fdca26"
            ],
            [
             1,
             "#f0f921"
            ]
           ],
           "sequentialminus": [
            [
             0,
             "#0d0887"
            ],
            [
             0.1111111111111111,
             "#46039f"
            ],
            [
             0.2222222222222222,
             "#7201a8"
            ],
            [
             0.3333333333333333,
             "#9c179e"
            ],
            [
             0.4444444444444444,
             "#bd3786"
            ],
            [
             0.5555555555555556,
             "#d8576b"
            ],
            [
             0.6666666666666666,
             "#ed7953"
            ],
            [
             0.7777777777777778,
             "#fb9f3a"
            ],
            [
             0.8888888888888888,
             "#fdca26"
            ],
            [
             1,
             "#f0f921"
            ]
           ]
          },
          "colorway": [
           "#636efa",
           "#EF553B",
           "#00cc96",
           "#ab63fa",
           "#FFA15A",
           "#19d3f3",
           "#FF6692",
           "#B6E880",
           "#FF97FF",
           "#FECB52"
          ],
          "font": {
           "color": "#2a3f5f"
          },
          "geo": {
           "bgcolor": "white",
           "lakecolor": "white",
           "landcolor": "#E5ECF6",
           "showlakes": true,
           "showland": true,
           "subunitcolor": "white"
          },
          "hoverlabel": {
           "align": "left"
          },
          "hovermode": "closest",
          "mapbox": {
           "style": "light"
          },
          "paper_bgcolor": "white",
          "plot_bgcolor": "#E5ECF6",
          "polar": {
           "angularaxis": {
            "gridcolor": "white",
            "linecolor": "white",
            "ticks": ""
           },
           "bgcolor": "#E5ECF6",
           "radialaxis": {
            "gridcolor": "white",
            "linecolor": "white",
            "ticks": ""
           }
          },
          "scene": {
           "xaxis": {
            "backgroundcolor": "#E5ECF6",
            "gridcolor": "white",
            "gridwidth": 2,
            "linecolor": "white",
            "showbackground": true,
            "ticks": "",
            "zerolinecolor": "white"
           },
           "yaxis": {
            "backgroundcolor": "#E5ECF6",
            "gridcolor": "white",
            "gridwidth": 2,
            "linecolor": "white",
            "showbackground": true,
            "ticks": "",
            "zerolinecolor": "white"
           },
           "zaxis": {
            "backgroundcolor": "#E5ECF6",
            "gridcolor": "white",
            "gridwidth": 2,
            "linecolor": "white",
            "showbackground": true,
            "ticks": "",
            "zerolinecolor": "white"
           }
          },
          "shapedefaults": {
           "line": {
            "color": "#2a3f5f"
           }
          },
          "ternary": {
           "aaxis": {
            "gridcolor": "white",
            "linecolor": "white",
            "ticks": ""
           },
           "baxis": {
            "gridcolor": "white",
            "linecolor": "white",
            "ticks": ""
           },
           "bgcolor": "#E5ECF6",
           "caxis": {
            "gridcolor": "white",
            "linecolor": "white",
            "ticks": ""
           }
          },
          "title": {
           "x": 0.05
          },
          "xaxis": {
           "automargin": true,
           "gridcolor": "white",
           "linecolor": "white",
           "ticks": "",
           "title": {
            "standoff": 15
           },
           "zerolinecolor": "white",
           "zerolinewidth": 2
          },
          "yaxis": {
           "automargin": true,
           "gridcolor": "white",
           "linecolor": "white",
           "ticks": "",
           "title": {
            "standoff": 15
           },
           "zerolinecolor": "white",
           "zerolinewidth": 2
          }
         }
        },
        "title": {
         "text": "Patient Distribution by Race and Gender"
        }
       }
      }
     },
     "metadata": {},
     "output_type": "display_data"
    }
   ],
   "source": [
    "# Group data by Race & Gender\n",
    "race_gender_counts = patients_with_gender.groupby([\"RACE\", \"GENDER\"]).size().reset_index(name=\"count\")\n",
    "\n",
    "# Pie chart\n",
    "fig = px.pie(race_gender_counts, values=\"count\", names=\"RACE\", color=\"RACE\",\n",
    "             title=\"Patient Distribution by Race and Gender\", hole=0.4)\n",
    "fig.show()"
   ]
  },
  {
   "cell_type": "markdown",
   "metadata": {},
   "source": []
  },
  {
   "attachments": {},
   "cell_type": "markdown",
   "metadata": {},
   "source": [
    "### Create a piechart indicating the percentage of patients across each racial category and gender."
   ]
  },
  {
   "cell_type": "code",
   "execution_count": 60,
   "metadata": {},
   "outputs": [
    {
     "name": "stdout",
     "output_type": "stream",
     "text": [
      "Percentage of patients with all 4 symptoms ≥ 30: 0.0000%\n"
     ]
    }
   ],
   "source": [
    "\n",
    "def extract_symptom_values(symptoms_str):\n",
    "    symptom_dict = dict(item.split(\":\") for item in symptoms_str.split(\";\"))\n",
    "    return {k: int(v) for k, v in symptom_dict.items()}  # Convert values to int\n",
    "\n",
    "# Apply function to create new columns\n",
    "df_symptoms = symptoms[\"SYMPTOMS\"].apply(extract_symptom_values).apply(pd.Series)\n",
    "df = pd.concat([symptoms, df_symptoms], axis=1)  # Merge extracted symptoms\n",
    "\n",
    "\n",
    "filtered_patients = df[\n",
    "    (df[\"Rash\"] >= 30) &\n",
    "    (df[\"Joint Pain\"] >= 30) &\n",
    "    (df[\"Fatigue\"] >= 30) &\n",
    "    (df[\"Fever\"] >= 30)\n",
    "]\n",
    "\n",
    "\n",
    "total_patients = df[\"PATIENT\"].nunique()\n",
    "matching_patients = filtered_patients[\"PATIENT\"].nunique()\n",
    "\n",
    "percentage = (matching_patients / total_patients) * 100 if total_patients > 0 else 0\n",
    "\n",
    "print(f\"Percentage of patients with all 4 symptoms ≥ 30: {percentage:.4f}%\")"
   ]
  },
  {
   "cell_type": "code",
   "execution_count": null,
   "metadata": {},
   "outputs": [],
   "source": []
  }
 ],
 "metadata": {
  "kernelspec": {
   "display_name": "kohls_env",
   "language": "python",
   "name": "python3"
  },
  "language_info": {
   "codemirror_mode": {
    "name": "ipython",
    "version": 3
   },
   "file_extension": ".py",
   "mimetype": "text/x-python",
   "name": "python",
   "nbconvert_exporter": "python",
   "pygments_lexer": "ipython3",
   "version": "3.10.9"
  },
  "orig_nbformat": 4
 },
 "nbformat": 4,
 "nbformat_minor": 2
}
